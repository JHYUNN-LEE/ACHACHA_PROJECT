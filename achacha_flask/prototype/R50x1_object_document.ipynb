{
 "cells": [
  {
   "cell_type": "code",
   "execution_count": 1,
   "id": "9b1714a0-c41a-4df5-9f72-bd3ba706fe6c",
   "metadata": {},
   "outputs": [],
   "source": [
    "import os\n",
    "import pandas as pd\n",
    "import tensorflow_hub as hub\n",
    "import tensorflow as tf\n",
    "import numpy as np\n",
    "from PIL import Image\n",
    "import matplotlib.pyplot as plt\n",
    "import numpy as np\n",
    "from tqdm.notebook import tqdm # 반복문의 진행상황 확인하는 모듈\n",
    "import time\n",
    "from scipy.spatial import distance\n",
    "\n",
    "# 경고끄기 (option)\n",
    "import warnings\n",
    "warnings.filterwarnings('ignore')"
   ]
  },
  {
   "cell_type": "code",
   "execution_count": 11,
   "id": "9428739e",
   "metadata": {},
   "outputs": [],
   "source": [
    "def model_build(model_name):\n",
    "    model_path = '/home/ubuntu/image_model/models/' + model_name\n",
    "    tmp_model = tf.saved_model.load(model_path)\n",
    "    layer = hub.KerasLayer(tmp_model, input_shape=(224, 224) + (3,))\n",
    "    model = tf.keras.Sequential([layer])\n",
    "    model.build([None, 244, 244, 3])\n",
    "    return model"
   ]
  },
  {
   "cell_type": "code",
   "execution_count": 54,
   "id": "86b3bcbb-5c6f-4a77-bcbc-5c7f97c5a872",
   "metadata": {},
   "outputs": [
    {
     "name": "stdout",
     "output_type": "stream",
     "text": [
      "Model: \"sequential_9\"\n",
      "_________________________________________________________________\n",
      " Layer (type)                Output Shape              Param #   \n",
      "=================================================================\n",
      " keras_layer_9 (KerasLayer)  (None, 2048)              23500352  \n",
      "                                                                 \n",
      "=================================================================\n",
      "Total params: 23,500,352\n",
      "Trainable params: 0\n",
      "Non-trainable params: 23,500,352\n",
      "_________________________________________________________________\n"
     ]
    }
   ],
   "source": [
    "IMAGE_SHAPE = (224, 224)\n",
    "model_name = 'R50x1_object'\n",
    "category = 'watch'\n",
    "\n",
    "model = model_build(model_name)\n",
    "model.summary()"
   ]
  },
  {
   "cell_type": "code",
   "execution_count": 55,
   "id": "6f5256e2-a462-4565-8efb-ae332b78161d",
   "metadata": {},
   "outputs": [],
   "source": [
    "\n",
    "\n",
    "image_path =  f\"/home/ubuntu/crops_95/{category}/\"\n",
    "output_path = f\"/home/ubuntu/image_model/vector_frame_95/{category}/\"\n",
    "# print(p)\n",
    "# print(os.path.exists(output_path))"
   ]
  },
  {
   "cell_type": "code",
   "execution_count": 56,
   "id": "7e3bbfe5-7985-4d4c-ab58-3fc6e12a228e",
   "metadata": {},
   "outputs": [
    {
     "name": "stdout",
     "output_type": "stream",
     "text": [
      "/home/ubuntu/crops_95/watch/\n",
      "/home/ubuntu/image_model/vector_frame_95/watch/\n"
     ]
    }
   ],
   "source": [
    "print(image_path)\n",
    "print(output_path)"
   ]
  },
  {
   "cell_type": "code",
   "execution_count": 57,
   "id": "6a75a056-2db3-4ede-addd-879affa5acaf",
   "metadata": {},
   "outputs": [],
   "source": [
    "def extract(file):\n",
    "    file = Image.open(file).convert('RGB').resize((224, 224))\n",
    "    file = np.array(file)/255.0 # 정규화\n",
    "\n",
    "    embedding = model.predict(file[np.newaxis, ...])\n",
    "    feature_np = np.array(embedding)\n",
    "    flattened_feature = feature_np.flatten()\n",
    "\n",
    "    return flattened_feature"
   ]
  },
  {
   "cell_type": "code",
   "execution_count": 58,
   "id": "643d57cd-f391-4555-922e-a510c04ce96a",
   "metadata": {},
   "outputs": [],
   "source": [
    "def make_dataframe(category=category, model_name=model_name):\n",
    "    global image_path\n",
    "    global output_path\n",
    "    file_list = os.listdir(image_path)\n",
    "    file_list_img = [file for file in file_list if file.endswith(\".png\") or file.endswith(\".jpeg\") or file.endswith(\".jpg\")]\n",
    "    tmp_df = pd.DataFrame()\n",
    "    for i, img in enumerate(tqdm(file_list_img)):\n",
    "        output = extract(image_path+'/'+img)\n",
    "        tmp_df = tmp_df.append({'filename':img, 'output':output}, ignore_index=True)\n",
    "\n",
    "    np.save(output_path+f'{category}_filename({model_name}).npy', tmp_df['filename'])\n",
    "    np.save(output_path+f'{category}_output({model_name}).npy', tmp_df['output']) # np.array배열 형태로 나중에 불러오기 위해 따로 저장\n",
    "    return tmp_df"
   ]
  },
  {
   "cell_type": "code",
   "execution_count": 59,
   "id": "89cdbd3a-6303-4bbc-a110-a26dd494e83a",
   "metadata": {
    "scrolled": true,
    "tags": []
   },
   "outputs": [
    {
     "data": {
      "application/vnd.jupyter.widget-view+json": {
       "model_id": "927f8cf5dd3541c98b6ae3641d74a032",
       "version_major": 2,
       "version_minor": 0
      },
      "text/plain": [
       "  0%|          | 0/555 [00:00<?, ?it/s]"
      ]
     },
     "metadata": {},
     "output_type": "display_data"
    }
   ],
   "source": [
    "tmp_df = make_dataframe()"
   ]
  },
  {
   "cell_type": "code",
   "execution_count": 21,
   "id": "c60ca72f-2a64-4bda-b6e6-75af1f077168",
   "metadata": {},
   "outputs": [
    {
     "data": {
      "text/html": [
       "<div>\n",
       "<style scoped>\n",
       "    .dataframe tbody tr th:only-of-type {\n",
       "        vertical-align: middle;\n",
       "    }\n",
       "\n",
       "    .dataframe tbody tr th {\n",
       "        vertical-align: top;\n",
       "    }\n",
       "\n",
       "    .dataframe thead th {\n",
       "        text-align: right;\n",
       "    }\n",
       "</style>\n",
       "<table border=\"1\" class=\"dataframe\">\n",
       "  <thead>\n",
       "    <tr style=\"text-align: right;\">\n",
       "      <th></th>\n",
       "      <th>filename</th>\n",
       "      <th>output</th>\n",
       "    </tr>\n",
       "  </thead>\n",
       "  <tbody>\n",
       "    <tr>\n",
       "      <th>0</th>\n",
       "      <td>F2022061300002286-1.jpg</td>\n",
       "      <td>[2.6600838, 0.0, 0.7268707, 3.196826, 0.119017...</td>\n",
       "    </tr>\n",
       "    <tr>\n",
       "      <th>1</th>\n",
       "      <td>F2022032500002221-1.jpg</td>\n",
       "      <td>[0.25643736, 0.0, 1.8648057, 1.9488076, 0.0, 6...</td>\n",
       "    </tr>\n",
       "    <tr>\n",
       "      <th>2</th>\n",
       "      <td>F2022072400000568-1.jpg</td>\n",
       "      <td>[1.234924, 0.0, 2.0886054, 2.2465365, 0.022671...</td>\n",
       "    </tr>\n",
       "    <tr>\n",
       "      <th>3</th>\n",
       "      <td>F2022041400002652-1.jpg</td>\n",
       "      <td>[0.12009576, 0.0, 1.8250792, 0.8253547, 0.3139...</td>\n",
       "    </tr>\n",
       "    <tr>\n",
       "      <th>4</th>\n",
       "      <td>F2022032200001867-13.jpg</td>\n",
       "      <td>[0.10174038, 0.0, 4.6574664, 0.30833498, 0.455...</td>\n",
       "    </tr>\n",
       "    <tr>\n",
       "      <th>...</th>\n",
       "      <td>...</td>\n",
       "      <td>...</td>\n",
       "    </tr>\n",
       "    <tr>\n",
       "      <th>189</th>\n",
       "      <td>F2022060700001403-1.jpg</td>\n",
       "      <td>[1.6144881, 0.0, 1.1991924, 4.8946686, 0.00405...</td>\n",
       "    </tr>\n",
       "    <tr>\n",
       "      <th>190</th>\n",
       "      <td>F2022051700004187-1.jpg</td>\n",
       "      <td>[0.052728113, 0.0, 4.384018, 1.5381334, 0.0, 0...</td>\n",
       "    </tr>\n",
       "    <tr>\n",
       "      <th>191</th>\n",
       "      <td>F2022031800002786-1.jpg</td>\n",
       "      <td>[0.16185422, 0.0, 0.0, 0.059821624, 0.6680853,...</td>\n",
       "    </tr>\n",
       "    <tr>\n",
       "      <th>192</th>\n",
       "      <td>F2022053100001769-1.jpg</td>\n",
       "      <td>[1.1362352, 0.0, 0.12866439, 2.2083535, 0.3171...</td>\n",
       "    </tr>\n",
       "    <tr>\n",
       "      <th>193</th>\n",
       "      <td>F2022091300000469-1.jpg</td>\n",
       "      <td>[0.5270155, 0.0, 3.7999022, 0.0, 0.05152798, 0...</td>\n",
       "    </tr>\n",
       "  </tbody>\n",
       "</table>\n",
       "<p>194 rows × 2 columns</p>\n",
       "</div>"
      ],
      "text/plain": [
       "                     filename  \\\n",
       "0     F2022061300002286-1.jpg   \n",
       "1     F2022032500002221-1.jpg   \n",
       "2     F2022072400000568-1.jpg   \n",
       "3     F2022041400002652-1.jpg   \n",
       "4    F2022032200001867-13.jpg   \n",
       "..                        ...   \n",
       "189   F2022060700001403-1.jpg   \n",
       "190   F2022051700004187-1.jpg   \n",
       "191   F2022031800002786-1.jpg   \n",
       "192   F2022053100001769-1.jpg   \n",
       "193   F2022091300000469-1.jpg   \n",
       "\n",
       "                                                output  \n",
       "0    [2.6600838, 0.0, 0.7268707, 3.196826, 0.119017...  \n",
       "1    [0.25643736, 0.0, 1.8648057, 1.9488076, 0.0, 6...  \n",
       "2    [1.234924, 0.0, 2.0886054, 2.2465365, 0.022671...  \n",
       "3    [0.12009576, 0.0, 1.8250792, 0.8253547, 0.3139...  \n",
       "4    [0.10174038, 0.0, 4.6574664, 0.30833498, 0.455...  \n",
       "..                                                 ...  \n",
       "189  [1.6144881, 0.0, 1.1991924, 4.8946686, 0.00405...  \n",
       "190  [0.052728113, 0.0, 4.384018, 1.5381334, 0.0, 0...  \n",
       "191  [0.16185422, 0.0, 0.0, 0.059821624, 0.6680853,...  \n",
       "192  [1.1362352, 0.0, 0.12866439, 2.2083535, 0.3171...  \n",
       "193  [0.5270155, 0.0, 3.7999022, 0.0, 0.05152798, 0...  \n",
       "\n",
       "[194 rows x 2 columns]"
      ]
     },
     "execution_count": 21,
     "metadata": {},
     "output_type": "execute_result"
    }
   ],
   "source": [
    "tmp_df"
   ]
  },
  {
   "cell_type": "code",
   "execution_count": 22,
   "id": "04d10e1b-7612-4f85-a43f-a70cf73bd2e2",
   "metadata": {},
   "outputs": [],
   "source": [
    "def get_dataframe(category=category, model_name=model_name):\n",
    "    global output_path    \n",
    "    tmp_filename = np.load(output_path+f'{category}_filename({model_name}).npy', allow_pickle=True)\n",
    "    tmp_output = np.load(output_path+f'{category}_output({model_name}).npy', allow_pickle=True)\n",
    "    df = pd.DataFrame({'filename':tmp_filename, 'output':tmp_output})\n",
    "    return df"
   ]
  },
  {
   "cell_type": "code",
   "execution_count": 23,
   "id": "0ea51ef6-8089-4cde-a4f2-b4f8d7f63198",
   "metadata": {},
   "outputs": [
    {
     "data": {
      "text/html": [
       "<div>\n",
       "<style scoped>\n",
       "    .dataframe tbody tr th:only-of-type {\n",
       "        vertical-align: middle;\n",
       "    }\n",
       "\n",
       "    .dataframe tbody tr th {\n",
       "        vertical-align: top;\n",
       "    }\n",
       "\n",
       "    .dataframe thead th {\n",
       "        text-align: right;\n",
       "    }\n",
       "</style>\n",
       "<table border=\"1\" class=\"dataframe\">\n",
       "  <thead>\n",
       "    <tr style=\"text-align: right;\">\n",
       "      <th></th>\n",
       "      <th>filename</th>\n",
       "      <th>output</th>\n",
       "    </tr>\n",
       "  </thead>\n",
       "  <tbody>\n",
       "    <tr>\n",
       "      <th>0</th>\n",
       "      <td>F2022061300002286-1.jpg</td>\n",
       "      <td>[2.6600838, 0.0, 0.7268707, 3.196826, 0.119017...</td>\n",
       "    </tr>\n",
       "    <tr>\n",
       "      <th>1</th>\n",
       "      <td>F2022032500002221-1.jpg</td>\n",
       "      <td>[0.25643736, 0.0, 1.8648057, 1.9488076, 0.0, 6...</td>\n",
       "    </tr>\n",
       "    <tr>\n",
       "      <th>2</th>\n",
       "      <td>F2022072400000568-1.jpg</td>\n",
       "      <td>[1.234924, 0.0, 2.0886054, 2.2465365, 0.022671...</td>\n",
       "    </tr>\n",
       "    <tr>\n",
       "      <th>3</th>\n",
       "      <td>F2022041400002652-1.jpg</td>\n",
       "      <td>[0.12009576, 0.0, 1.8250792, 0.8253547, 0.3139...</td>\n",
       "    </tr>\n",
       "    <tr>\n",
       "      <th>4</th>\n",
       "      <td>F2022032200001867-13.jpg</td>\n",
       "      <td>[0.10174038, 0.0, 4.6574664, 0.30833498, 0.455...</td>\n",
       "    </tr>\n",
       "    <tr>\n",
       "      <th>...</th>\n",
       "      <td>...</td>\n",
       "      <td>...</td>\n",
       "    </tr>\n",
       "    <tr>\n",
       "      <th>189</th>\n",
       "      <td>F2022060700001403-1.jpg</td>\n",
       "      <td>[1.6144881, 0.0, 1.1991924, 4.8946686, 0.00405...</td>\n",
       "    </tr>\n",
       "    <tr>\n",
       "      <th>190</th>\n",
       "      <td>F2022051700004187-1.jpg</td>\n",
       "      <td>[0.052728113, 0.0, 4.384018, 1.5381334, 0.0, 0...</td>\n",
       "    </tr>\n",
       "    <tr>\n",
       "      <th>191</th>\n",
       "      <td>F2022031800002786-1.jpg</td>\n",
       "      <td>[0.16185422, 0.0, 0.0, 0.059821624, 0.6680853,...</td>\n",
       "    </tr>\n",
       "    <tr>\n",
       "      <th>192</th>\n",
       "      <td>F2022053100001769-1.jpg</td>\n",
       "      <td>[1.1362352, 0.0, 0.12866439, 2.2083535, 0.3171...</td>\n",
       "    </tr>\n",
       "    <tr>\n",
       "      <th>193</th>\n",
       "      <td>F2022091300000469-1.jpg</td>\n",
       "      <td>[0.5270155, 0.0, 3.7999022, 0.0, 0.05152798, 0...</td>\n",
       "    </tr>\n",
       "  </tbody>\n",
       "</table>\n",
       "<p>194 rows × 2 columns</p>\n",
       "</div>"
      ],
      "text/plain": [
       "                     filename  \\\n",
       "0     F2022061300002286-1.jpg   \n",
       "1     F2022032500002221-1.jpg   \n",
       "2     F2022072400000568-1.jpg   \n",
       "3     F2022041400002652-1.jpg   \n",
       "4    F2022032200001867-13.jpg   \n",
       "..                        ...   \n",
       "189   F2022060700001403-1.jpg   \n",
       "190   F2022051700004187-1.jpg   \n",
       "191   F2022031800002786-1.jpg   \n",
       "192   F2022053100001769-1.jpg   \n",
       "193   F2022091300000469-1.jpg   \n",
       "\n",
       "                                                output  \n",
       "0    [2.6600838, 0.0, 0.7268707, 3.196826, 0.119017...  \n",
       "1    [0.25643736, 0.0, 1.8648057, 1.9488076, 0.0, 6...  \n",
       "2    [1.234924, 0.0, 2.0886054, 2.2465365, 0.022671...  \n",
       "3    [0.12009576, 0.0, 1.8250792, 0.8253547, 0.3139...  \n",
       "4    [0.10174038, 0.0, 4.6574664, 0.30833498, 0.455...  \n",
       "..                                                 ...  \n",
       "189  [1.6144881, 0.0, 1.1991924, 4.8946686, 0.00405...  \n",
       "190  [0.052728113, 0.0, 4.384018, 1.5381334, 0.0, 0...  \n",
       "191  [0.16185422, 0.0, 0.0, 0.059821624, 0.6680853,...  \n",
       "192  [1.1362352, 0.0, 0.12866439, 2.2083535, 0.3171...  \n",
       "193  [0.5270155, 0.0, 3.7999022, 0.0, 0.05152798, 0...  \n",
       "\n",
       "[194 rows x 2 columns]"
      ]
     },
     "execution_count": 23,
     "metadata": {},
     "output_type": "execute_result"
    }
   ],
   "source": [
    "get_dataframe()"
   ]
  },
  {
   "cell_type": "code",
   "execution_count": null,
   "id": "c4e42d75-5546-440a-a8c8-fbf11198830a",
   "metadata": {},
   "outputs": [],
   "source": [
    "def get_cos_sim(file, category=category, metric='cosine'):\n",
    "    before_time = time.time()\n",
    "    file2vec = extract(file) # 이미지 벡터화\n",
    "    df = get_dataframe() # 데이터프레임 가져오기\n",
    "    df = df.append({'filename':file, 'output':file2vec}, ignore_index=True)\n",
    "    \n",
    "    cos_sim_array = np.zeros((len(df)))\n",
    "    for i in range(0, len(df)):\n",
    "        cos_sim_array[i] = distance.cdist([file2vec] , [df.iloc[i, 1]], metric)[0] # 벡터화된 이미지 기준\n",
    "    df['cos_sim']=cos_sim_array\n",
    "    after_time = time.time()\n",
    "    runtime = after_time-before_time\n",
    "    return df, runtime # 런타임 비교용"
   ]
  },
  {
   "cell_type": "code",
   "execution_count": null,
   "id": "8d34c381-a106-4856-b86a-762b5a4df5c8",
   "metadata": {},
   "outputs": [],
   "source": [
    "def show_sim(input_file):\n",
    "    global image_path\n",
    "    global output_path\n",
    "    cos_sim_df, runtime = get_cos_sim(input_file)\n",
    "    df_top_sim = cos_sim_df.sort_values(by='cos_sim')[:15]\n",
    "\n",
    "    # 그래프 그리는 부분은 서비스 시 생략 가능\n",
    "    f, ax = plt.subplots(3, 5, figsize=(40, 20))\n",
    "\n",
    "    for i in range(len(df_top_sim)):\n",
    "        if i == 0: \n",
    "            tmp_img = Image.open(df_top_sim.iloc[i, 0]).convert('RGB')\n",
    "            title = f'Original \\n{df_top_sim.iloc[i, 0]}'\n",
    "        else : \n",
    "            tmp_img = Image.open(image_path+'/'+df_top_sim.iloc[i, 0]).convert('RGB')\n",
    "            title = f'similarity no.{i} \\n{df_top_sim.iloc[i, 0]}'\n",
    "\n",
    "        sim = f'cos : {df_top_sim.iloc[i, 2]:.3f}' \n",
    "        ax[i//5][i%5].imshow(tmp_img, aspect='auto')\n",
    "        ax[i//5][i%5].set_title(title, pad=20, size=25) # 5열짜리 표를 만드는 것이므로 단순히 5로 나눈 나머지와 몫을 사용한 것임\n",
    "        ax[i//5][i%5].annotate(sim, (0,10), fontsize=18, color='red')\n",
    "    \n",
    "    print(f'소요시간 : {runtime:.3f}')\n",
    "    plt.show()"
   ]
  },
  {
   "cell_type": "code",
   "execution_count": null,
   "id": "14a28df1-774f-4c45-a575-96dfccd6c337",
   "metadata": {},
   "outputs": [],
   "source": [
    "def show_sim_threshold(input_file, threshold, savefig=False):\n",
    "    global image_path\n",
    "    global output_path\n",
    "    cos_sim_df, runtime = get_cos_sim(input_file)\n",
    "    df_top_sim = cos_sim_df[cos_sim_df.cos_sim <= threshold].sort_values(by='cos_sim')[:30]\n",
    "    # 그래프 그리는 부분은 서비스 시 생략 가능\n",
    "    if len(df_top_sim) <= 10:\n",
    "        f, ax = plt.subplots(2, 5, figsize=(40, 20))\n",
    "    elif len(df_top_sim) <=15:\n",
    "        f, ax = plt.subplots(3, 5, figsize=(40, 30))\n",
    "    elif len(df_top_sim) <=20:\n",
    "        f, ax = plt.subplots(4, 5, figsize=(40, 40))\n",
    "    elif len(df_top_sim) <=25:\n",
    "        f, ax = plt.subplots(5, 5, figsize=(40, 45))\n",
    "    else:\n",
    "        f, ax = plt.subplots(6, 5, figsize=(40, 50))\n",
    "\n",
    "    for i in range(len(df_top_sim)):\n",
    "        if i == 0: \n",
    "            tmp_img = Image.open(df_top_sim.iloc[i, 0]).convert('RGB')\n",
    "            title = f'Original \\n{df_top_sim.iloc[i, 0]}'\n",
    "        else : \n",
    "            tmp_img = Image.open(image_path+'/'+df_top_sim.iloc[i, 0]).convert('RGB')\n",
    "            title = f'similarity no.{i} \\n{df_top_sim.iloc[i, 0]}'\n",
    "        \n",
    "        sim = f'cos : {df_top_sim.iloc[i, 2]:.3f}' \n",
    "        ax[i//5][i%5].imshow(tmp_img, aspect='auto')\n",
    "        ax[i//5][i%5].set_title(title, pad=20, size=25) # 5열짜리 표를 만드는 것이므로 단순히 5로 나눈 나머지와 몫을 사용한 것임\n",
    "        ax[i//5][i%5].annotate(sim, (0,10), fontsize=18, color='red')\n",
    "    \n",
    "    if savefig:\n",
    "        global model_name\n",
    "        plt.savefig(f'./test_result/{model_name}_test_result_{time.strftime(\"%H_%M_%S\")}.jpg', pad_inches=0)\n",
    "    print(f'소요시간 : {runtime:.3f}')\n",
    "    plt.show()"
   ]
  },
  {
   "cell_type": "code",
   "execution_count": null,
   "id": "cda1fac6-0700-4bfd-b53c-f6facdabaac6",
   "metadata": {},
   "outputs": [],
   "source": [
    "get_dataframe()\n",
    "input_file_path = os.listdir(os.getcwd())\n",
    "input_files = [file for file in input_file_path if file.endswith(\".png\") or file.endswith(\".jpeg\") or file.endswith(\".jpg\")]\n",
    "\n"
   ]
  },
  {
   "cell_type": "code",
   "execution_count": null,
   "id": "564c019d-6ec7-4b8e-ba13-cf132c6668fd",
   "metadata": {},
   "outputs": [],
   "source": [
    "threshold = 0.4 # 임계값은 변경해가면서 확인 가능\n",
    "show_sim_threshold('test_car.png', threshold=threshold, savefig=False)\n",
    "# show_sim_threshold(input_file, threshold=threshold, savefig=True)\n",
    "# savefig = True 인자 넣으면 결과 사진 현재 디렉토리에 저장"
   ]
  },
  {
   "cell_type": "code",
   "execution_count": null,
   "id": "6de9ff2f-3ab5-45d1-88be-2b26e30a1dc8",
   "metadata": {},
   "outputs": [],
   "source": [
    "show_sim_threshold(input_files[1], threshold=threshold, savefig=True)"
   ]
  },
  {
   "cell_type": "code",
   "execution_count": null,
   "id": "ced6379d-8a2d-48b0-97cb-4cbf15a0f8b7",
   "metadata": {},
   "outputs": [],
   "source": [
    "show_sim_threshold(input_files[2], threshold=threshold, savefig=True)"
   ]
  },
  {
   "cell_type": "code",
   "execution_count": null,
   "id": "b81e6bee-e12b-49b2-9eca-3be2e9d2e0a1",
   "metadata": {},
   "outputs": [],
   "source": [
    "show_sim_threshold(input_files[3], threshold=threshold, savefig=True)"
   ]
  },
  {
   "cell_type": "code",
   "execution_count": null,
   "id": "157161dc-a1b8-475c-8ceb-803001aa5ecd",
   "metadata": {},
   "outputs": [],
   "source": []
  },
  {
   "cell_type": "code",
   "execution_count": null,
   "id": "9ffab28f-b39a-4c5b-89a2-45a6e1e46121",
   "metadata": {},
   "outputs": [],
   "source": []
  }
 ],
 "metadata": {
  "kernelspec": {
   "display_name": "Environment (conda_tensorflow2_p38)",
   "language": "python",
   "name": "conda_tensorflow2_p38"
  },
  "language_info": {
   "codemirror_mode": {
    "name": "ipython",
    "version": 3
   },
   "file_extension": ".py",
   "mimetype": "text/x-python",
   "name": "python",
   "nbconvert_exporter": "python",
   "pygments_lexer": "ipython3",
   "version": "3.8.12"
  }
 },
 "nbformat": 4,
 "nbformat_minor": 5
}
