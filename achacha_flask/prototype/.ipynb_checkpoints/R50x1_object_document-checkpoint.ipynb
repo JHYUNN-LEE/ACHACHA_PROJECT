{
 "cells": [
  {
   "cell_type": "code",
   "execution_count": 3,
   "id": "9b1714a0-c41a-4df5-9f72-bd3ba706fe6c",
   "metadata": {},
   "outputs": [
    {
     "name": "stderr",
     "output_type": "stream",
     "text": [
      "2022-09-24 16:00:15.647522: I tensorflow/stream_executor/platform/default/dso_loader.cc:49] Successfully opened dynamic library libcudart.so.11.0\n"
     ]
    }
   ],
   "source": [
    "import os\n",
    "import pandas as pd\n",
    "import tensorflow_hub as hub\n",
    "import tensorflow as tf\n",
    "import numpy as np\n",
    "from PIL import Image\n",
    "import matplotlib.pyplot as plt\n",
    "import numpy as np\n",
    "from tqdm.notebook import tqdm # 반복문의 진행상황 확인하는 모듈\n",
    "import time\n",
    "from scipy.spatial import distance\n",
    "\n",
    "# 경고끄기 (option)\n",
    "import warnings\n",
    "warnings.filterwarnings('ignore')"
   ]
  },
  {
   "cell_type": "code",
   "execution_count": null,
   "id": "b7d00fd9",
   "metadata": {},
   "outputs": [],
   "source": [
    "def model_build(model_name):\n",
    "    model_path = '/home/ubuntu/image_model/models/' + model_name\n",
    "    tmp_model = tf.saved_model.load(model_path)\n",
    "    layer = hub.KerasLayer(tmp_model, input_shape=(224, 224) + (3,))\n",
    "    model = tf.keras.Sequential([layer])\n",
    "    model.build([None, 244, 244, 3])\n",
    "    print(f'=========={model_name} loaded==========')"
   ]
  },
  {
   "cell_type": "code",
   "execution_count": 4,
   "id": "86b3bcbb-5c6f-4a77-bcbc-5c7f97c5a872",
   "metadata": {},
   "outputs": [
    {
     "name": "stderr",
     "output_type": "stream",
     "text": [
      "2022-09-24 16:00:26.958645: I tensorflow/compiler/jit/xla_cpu_device.cc:41] Not creating XLA devices, tf_xla_enable_xla_devices not set\n",
      "2022-09-24 16:00:26.962402: I tensorflow/stream_executor/platform/default/dso_loader.cc:49] Successfully opened dynamic library libcuda.so.1\n",
      "2022-09-24 16:00:27.014919: I tensorflow/stream_executor/cuda/cuda_gpu_executor.cc:941] successful NUMA node read from SysFS had negative value (-1), but there must be at least one NUMA node, so returning NUMA node zero\n",
      "2022-09-24 16:00:27.016568: I tensorflow/core/common_runtime/gpu/gpu_device.cc:1720] Found device 0 with properties: \n",
      "pciBusID: 0000:00:1e.0 name: Tesla T4 computeCapability: 7.5\n",
      "coreClock: 1.59GHz coreCount: 40 deviceMemorySize: 14.56GiB deviceMemoryBandwidth: 298.08GiB/s\n",
      "2022-09-24 16:00:27.016604: I tensorflow/stream_executor/platform/default/dso_loader.cc:49] Successfully opened dynamic library libcudart.so.11.0\n",
      "2022-09-24 16:00:27.031602: I tensorflow/stream_executor/platform/default/dso_loader.cc:49] Successfully opened dynamic library libcublas.so.11\n",
      "2022-09-24 16:00:27.031680: I tensorflow/stream_executor/platform/default/dso_loader.cc:49] Successfully opened dynamic library libcublasLt.so.11\n",
      "2022-09-24 16:00:27.033749: I tensorflow/stream_executor/platform/default/dso_loader.cc:49] Successfully opened dynamic library libcufft.so.10\n",
      "2022-09-24 16:00:27.038087: I tensorflow/stream_executor/platform/default/dso_loader.cc:49] Successfully opened dynamic library libcurand.so.10\n",
      "2022-09-24 16:00:27.079181: I tensorflow/stream_executor/platform/default/dso_loader.cc:49] Successfully opened dynamic library libcusolver.so.10\n",
      "2022-09-24 16:00:27.082217: I tensorflow/stream_executor/platform/default/dso_loader.cc:49] Successfully opened dynamic library libcusparse.so.11\n",
      "2022-09-24 16:00:27.084969: I tensorflow/stream_executor/platform/default/dso_loader.cc:49] Successfully opened dynamic library libcudnn.so.8\n",
      "2022-09-24 16:00:27.085111: I tensorflow/stream_executor/cuda/cuda_gpu_executor.cc:941] successful NUMA node read from SysFS had negative value (-1), but there must be at least one NUMA node, so returning NUMA node zero\n",
      "2022-09-24 16:00:27.086837: I tensorflow/stream_executor/cuda/cuda_gpu_executor.cc:941] successful NUMA node read from SysFS had negative value (-1), but there must be at least one NUMA node, so returning NUMA node zero\n",
      "2022-09-24 16:00:27.089377: I tensorflow/core/common_runtime/gpu/gpu_device.cc:1862] Adding visible gpu devices: 0\n",
      "2022-09-24 16:00:27.090121: I tensorflow/core/platform/cpu_feature_guard.cc:142] This TensorFlow binary is optimized with oneAPI Deep Neural Network Library (oneDNN) to use the following CPU instructions in performance-critical operations:  AVX512F\n",
      "To enable them in other operations, rebuild TensorFlow with the appropriate compiler flags.\n",
      "2022-09-24 16:00:27.090882: I tensorflow/compiler/jit/xla_gpu_device.cc:99] Not creating XLA devices, tf_xla_enable_xla_devices not set\n",
      "2022-09-24 16:00:27.091022: I tensorflow/stream_executor/cuda/cuda_gpu_executor.cc:941] successful NUMA node read from SysFS had negative value (-1), but there must be at least one NUMA node, so returning NUMA node zero\n",
      "2022-09-24 16:00:27.092551: I tensorflow/core/common_runtime/gpu/gpu_device.cc:1720] Found device 0 with properties: \n",
      "pciBusID: 0000:00:1e.0 name: Tesla T4 computeCapability: 7.5\n",
      "coreClock: 1.59GHz coreCount: 40 deviceMemorySize: 14.56GiB deviceMemoryBandwidth: 298.08GiB/s\n",
      "2022-09-24 16:00:27.092598: I tensorflow/stream_executor/platform/default/dso_loader.cc:49] Successfully opened dynamic library libcudart.so.11.0\n",
      "2022-09-24 16:00:27.092631: I tensorflow/stream_executor/platform/default/dso_loader.cc:49] Successfully opened dynamic library libcublas.so.11\n",
      "2022-09-24 16:00:27.092645: I tensorflow/stream_executor/platform/default/dso_loader.cc:49] Successfully opened dynamic library libcublasLt.so.11\n",
      "2022-09-24 16:00:27.092659: I tensorflow/stream_executor/platform/default/dso_loader.cc:49] Successfully opened dynamic library libcufft.so.10\n",
      "2022-09-24 16:00:27.092672: I tensorflow/stream_executor/platform/default/dso_loader.cc:49] Successfully opened dynamic library libcurand.so.10\n",
      "2022-09-24 16:00:27.092685: I tensorflow/stream_executor/platform/default/dso_loader.cc:49] Successfully opened dynamic library libcusolver.so.10\n",
      "2022-09-24 16:00:27.092701: I tensorflow/stream_executor/platform/default/dso_loader.cc:49] Successfully opened dynamic library libcusparse.so.11\n",
      "2022-09-24 16:00:27.092714: I tensorflow/stream_executor/platform/default/dso_loader.cc:49] Successfully opened dynamic library libcudnn.so.8\n",
      "2022-09-24 16:00:27.092788: I tensorflow/stream_executor/cuda/cuda_gpu_executor.cc:941] successful NUMA node read from SysFS had negative value (-1), but there must be at least one NUMA node, so returning NUMA node zero\n",
      "2022-09-24 16:00:27.094315: I tensorflow/stream_executor/cuda/cuda_gpu_executor.cc:941] successful NUMA node read from SysFS had negative value (-1), but there must be at least one NUMA node, so returning NUMA node zero\n",
      "2022-09-24 16:00:27.095898: I tensorflow/core/common_runtime/gpu/gpu_device.cc:1862] Adding visible gpu devices: 0\n",
      "2022-09-24 16:00:27.097345: I tensorflow/stream_executor/platform/default/dso_loader.cc:49] Successfully opened dynamic library libcudart.so.11.0\n",
      "2022-09-24 16:00:28.966057: I tensorflow/core/common_runtime/gpu/gpu_device.cc:1261] Device interconnect StreamExecutor with strength 1 edge matrix:\n",
      "2022-09-24 16:00:28.966094: I tensorflow/core/common_runtime/gpu/gpu_device.cc:1267]      0 \n",
      "2022-09-24 16:00:28.966102: I tensorflow/core/common_runtime/gpu/gpu_device.cc:1280] 0:   N \n",
      "2022-09-24 16:00:28.967506: I tensorflow/stream_executor/cuda/cuda_gpu_executor.cc:941] successful NUMA node read from SysFS had negative value (-1), but there must be at least one NUMA node, so returning NUMA node zero\n",
      "2022-09-24 16:00:28.969363: I tensorflow/stream_executor/cuda/cuda_gpu_executor.cc:941] successful NUMA node read from SysFS had negative value (-1), but there must be at least one NUMA node, so returning NUMA node zero\n",
      "2022-09-24 16:00:28.970924: I tensorflow/stream_executor/cuda/cuda_gpu_executor.cc:941] successful NUMA node read from SysFS had negative value (-1), but there must be at least one NUMA node, so returning NUMA node zero\n",
      "2022-09-24 16:00:28.972447: I tensorflow/core/common_runtime/gpu/gpu_device.cc:1406] Created TensorFlow device (/job:localhost/replica:0/task:0/device:GPU:0 with 5005 MB memory) -> physical GPU (device: 0, name: Tesla T4, pci bus id: 0000:00:1e.0, compute capability: 7.5)\n"
     ]
    },
    {
     "name": "stdout",
     "output_type": "stream",
     "text": [
      "Model: \"sequential\"\n",
      "_________________________________________________________________\n",
      "Layer (type)                 Output Shape              Param #   \n",
      "=================================================================\n",
      "keras_layer (KerasLayer)     (None, 2048)              23500352  \n",
      "=================================================================\n",
      "Total params: 23,500,352\n",
      "Trainable params: 0\n",
      "Non-trainable params: 23,500,352\n",
      "_________________________________________________________________\n"
     ]
    }
   ],
   "source": [
    "model_url = \"https://tfhub.dev/google/experts/bit/r50x1/in21k/object/1\"\n",
    "\n",
    "IMAGE_SHAPE = (224, 224)\n",
    "model_name = 'R50x1_object'\n",
    "category = 'shoes'\n",
    "\n",
    "model = model_build(model_name)\n",
    "model.summary()"
   ]
  },
  {
   "cell_type": "code",
   "execution_count": 5,
   "id": "6f5256e2-a462-4565-8efb-ae332b78161d",
   "metadata": {},
   "outputs": [],
   "source": [
    "\n",
    "\n",
    "image_path =  f\"/home/ubuntu/crops_95/{category}/\"\n",
    "output_path = f\"/home/ubuntu/image_model/vector_frame_95/{category}/\"\n",
    "# print(p)\n",
    "# print(os.path.exists(output_path))"
   ]
  },
  {
   "cell_type": "code",
   "execution_count": 6,
   "id": "7e3bbfe5-7985-4d4c-ab58-3fc6e12a228e",
   "metadata": {},
   "outputs": [
    {
     "name": "stdout",
     "output_type": "stream",
     "text": [
      "/home/ubuntu/crops_95/shoes/\n",
      "/home/ubuntu/image_model/vector_frame_95/shoes/\n"
     ]
    }
   ],
   "source": [
    "print(image_path)\n",
    "print(output_path)"
   ]
  },
  {
   "cell_type": "code",
   "execution_count": 7,
   "id": "6a75a056-2db3-4ede-addd-879affa5acaf",
   "metadata": {},
   "outputs": [],
   "source": [
    "def extract(file):\n",
    "    file = Image.open(file).convert('RGB').resize((224, 224))\n",
    "    file = np.array(file)/255.0 # 정규화\n",
    "\n",
    "    embedding = model.predict(file[np.newaxis, ...])\n",
    "    feature_np = np.array(embedding)\n",
    "    flattened_feature = feature_np.flatten()\n",
    "\n",
    "    return flattened_feature"
   ]
  },
  {
   "cell_type": "code",
   "execution_count": 8,
   "id": "643d57cd-f391-4555-922e-a510c04ce96a",
   "metadata": {},
   "outputs": [],
   "source": [
    "def make_dataframe(category=category, model_name=model_name):\n",
    "    global image_path\n",
    "    global output_path\n",
    "    file_list = os.listdir(image_path)\n",
    "    file_list_img = [file for file in file_list if file.endswith(\".png\") or file.endswith(\".jpeg\") or file.endswith(\".jpg\")]\n",
    "    tmp_df = pd.DataFrame()\n",
    "    for i, img in enumerate(tqdm(file_list_img)):\n",
    "        output = extract(image_path+'/'+img)\n",
    "        tmp_df = tmp_df.append({'filename':img, 'output':output}, ignore_index=True)\n",
    "\n",
    "    np.save(output_path+f'{category}_filename({model_name}).npy', tmp_df['filename'])\n",
    "    np.save(output_path+f'{category}_output({model_name}).npy', tmp_df['output']) # np.array배열 형태로 나중에 불러오기 위해 따로 저장\n",
    "    return tmp_df"
   ]
  },
  {
   "cell_type": "code",
   "execution_count": null,
   "id": "89cdbd3a-6303-4bbc-a110-a26dd494e83a",
   "metadata": {
    "scrolled": true,
    "tags": []
   },
   "outputs": [
    {
     "data": {
      "application/vnd.jupyter.widget-view+json": {
       "model_id": "4cea0619556c4e28aff45be30042f682",
       "version_major": 2,
       "version_minor": 0
      },
      "text/plain": [
       "  0%|          | 0/370 [00:00<?, ?it/s]"
      ]
     },
     "metadata": {},
     "output_type": "display_data"
    },
    {
     "name": "stderr",
     "output_type": "stream",
     "text": [
      "2022-09-24 16:01:29.797537: I tensorflow/compiler/mlir/mlir_graph_optimization_pass.cc:116] None of the MLIR optimization passes are enabled (registered 2)\n",
      "2022-09-24 16:01:29.827607: I tensorflow/core/platform/profile_utils/cpu_utils.cc:112] CPU Frequency: 2499995000 Hz\n",
      "2022-09-24 16:01:31.027294: I tensorflow/stream_executor/platform/default/dso_loader.cc:49] Successfully opened dynamic library libcudnn.so.8\n"
     ]
    }
   ],
   "source": [
    "tmp_df = make_dataframe()"
   ]
  },
  {
   "cell_type": "code",
   "execution_count": 8,
   "id": "c60ca72f-2a64-4bda-b6e6-75af1f077168",
   "metadata": {},
   "outputs": [
    {
     "data": {
      "text/html": [
       "<div>\n",
       "<style scoped>\n",
       "    .dataframe tbody tr th:only-of-type {\n",
       "        vertical-align: middle;\n",
       "    }\n",
       "\n",
       "    .dataframe tbody tr th {\n",
       "        vertical-align: top;\n",
       "    }\n",
       "\n",
       "    .dataframe thead th {\n",
       "        text-align: right;\n",
       "    }\n",
       "</style>\n",
       "<table border=\"1\" class=\"dataframe\">\n",
       "  <thead>\n",
       "    <tr style=\"text-align: right;\">\n",
       "      <th></th>\n",
       "      <th>filename</th>\n",
       "      <th>output</th>\n",
       "    </tr>\n",
       "  </thead>\n",
       "  <tbody>\n",
       "    <tr>\n",
       "      <th>0</th>\n",
       "      <td>V0002132H05260002-1.jpg</td>\n",
       "      <td>[0.2310984, 0.0, 11.489848, 1.2045413, 0.09439...</td>\n",
       "    </tr>\n",
       "    <tr>\n",
       "      <th>1</th>\n",
       "      <td>F2022051200003313-1.jpg</td>\n",
       "      <td>[0.027451126, 0.0, 10.108498, 3.4653668, 2.222...</td>\n",
       "    </tr>\n",
       "    <tr>\n",
       "      <th>2</th>\n",
       "      <td>V0001966H05070002-1.jpg</td>\n",
       "      <td>[0.0, 0.0, 23.07469, 0.062847756, 0.7220657, 1...</td>\n",
       "    </tr>\n",
       "    <tr>\n",
       "      <th>3</th>\n",
       "      <td>F2022042800001942-1.jpg</td>\n",
       "      <td>[0.3248762, 0.0, 5.28933, 6.236734, 0.84258276...</td>\n",
       "    </tr>\n",
       "    <tr>\n",
       "      <th>4</th>\n",
       "      <td>V0000336H07280012-1.jpg</td>\n",
       "      <td>[0.03647488, 0.0, 1.9045949, 4.5213065, 0.0, 2...</td>\n",
       "    </tr>\n",
       "    <tr>\n",
       "      <th>...</th>\n",
       "      <td>...</td>\n",
       "      <td>...</td>\n",
       "    </tr>\n",
       "    <tr>\n",
       "      <th>421</th>\n",
       "      <td>V0002110H05290008-1.jpg</td>\n",
       "      <td>[0.24691036, 0.0, 5.412187, 2.691634, 1.442488...</td>\n",
       "    </tr>\n",
       "    <tr>\n",
       "      <th>422</th>\n",
       "      <td>F2022033000002337-1.jpg</td>\n",
       "      <td>[0.057991553, 0.0, 17.22441, 0.69563663, 1.976...</td>\n",
       "    </tr>\n",
       "    <tr>\n",
       "      <th>423</th>\n",
       "      <td>F2022071800001202-1.jpg</td>\n",
       "      <td>[4.429495, 0.0, 0.82158875, 0.5262975, 1.23762...</td>\n",
       "    </tr>\n",
       "    <tr>\n",
       "      <th>424</th>\n",
       "      <td>F2022042100000056-1.jpg</td>\n",
       "      <td>[0.059369043, 0.0, 7.731587, 3.2327712, 4.6855...</td>\n",
       "    </tr>\n",
       "    <tr>\n",
       "      <th>425</th>\n",
       "      <td>V0001992H08200002-1.jpg</td>\n",
       "      <td>[0.019590037, 0.0, 2.1754231, 0.09928424, 0.14...</td>\n",
       "    </tr>\n",
       "  </tbody>\n",
       "</table>\n",
       "<p>426 rows × 2 columns</p>\n",
       "</div>"
      ],
      "text/plain": [
       "                    filename  \\\n",
       "0    V0002132H05260002-1.jpg   \n",
       "1    F2022051200003313-1.jpg   \n",
       "2    V0001966H05070002-1.jpg   \n",
       "3    F2022042800001942-1.jpg   \n",
       "4    V0000336H07280012-1.jpg   \n",
       "..                       ...   \n",
       "421  V0002110H05290008-1.jpg   \n",
       "422  F2022033000002337-1.jpg   \n",
       "423  F2022071800001202-1.jpg   \n",
       "424  F2022042100000056-1.jpg   \n",
       "425  V0001992H08200002-1.jpg   \n",
       "\n",
       "                                                output  \n",
       "0    [0.2310984, 0.0, 11.489848, 1.2045413, 0.09439...  \n",
       "1    [0.027451126, 0.0, 10.108498, 3.4653668, 2.222...  \n",
       "2    [0.0, 0.0, 23.07469, 0.062847756, 0.7220657, 1...  \n",
       "3    [0.3248762, 0.0, 5.28933, 6.236734, 0.84258276...  \n",
       "4    [0.03647488, 0.0, 1.9045949, 4.5213065, 0.0, 2...  \n",
       "..                                                 ...  \n",
       "421  [0.24691036, 0.0, 5.412187, 2.691634, 1.442488...  \n",
       "422  [0.057991553, 0.0, 17.22441, 0.69563663, 1.976...  \n",
       "423  [4.429495, 0.0, 0.82158875, 0.5262975, 1.23762...  \n",
       "424  [0.059369043, 0.0, 7.731587, 3.2327712, 4.6855...  \n",
       "425  [0.019590037, 0.0, 2.1754231, 0.09928424, 0.14...  \n",
       "\n",
       "[426 rows x 2 columns]"
      ]
     },
     "execution_count": 8,
     "metadata": {},
     "output_type": "execute_result"
    }
   ],
   "source": [
    "tmp_df"
   ]
  },
  {
   "cell_type": "code",
   "execution_count": 9,
   "id": "04d10e1b-7612-4f85-a43f-a70cf73bd2e2",
   "metadata": {},
   "outputs": [],
   "source": [
    "def get_dataframe(category=category, model_name=model_name):\n",
    "    global output_path    \n",
    "    tmp_filename = np.load(output_path+f'{category}_filename({model_name}).npy', allow_pickle=True)\n",
    "    tmp_output = np.load(output_path+f'{category}_output({model_name}).npy', allow_pickle=True)\n",
    "    df = pd.DataFrame({'filename':tmp_filename, 'output':tmp_output})\n",
    "    return df"
   ]
  },
  {
   "cell_type": "code",
   "execution_count": 10,
   "id": "0ea51ef6-8089-4cde-a4f2-b4f8d7f63198",
   "metadata": {},
   "outputs": [
    {
     "data": {
      "text/html": [
       "<div>\n",
       "<style scoped>\n",
       "    .dataframe tbody tr th:only-of-type {\n",
       "        vertical-align: middle;\n",
       "    }\n",
       "\n",
       "    .dataframe tbody tr th {\n",
       "        vertical-align: top;\n",
       "    }\n",
       "\n",
       "    .dataframe thead th {\n",
       "        text-align: right;\n",
       "    }\n",
       "</style>\n",
       "<table border=\"1\" class=\"dataframe\">\n",
       "  <thead>\n",
       "    <tr style=\"text-align: right;\">\n",
       "      <th></th>\n",
       "      <th>filename</th>\n",
       "      <th>output</th>\n",
       "    </tr>\n",
       "  </thead>\n",
       "  <tbody>\n",
       "    <tr>\n",
       "      <th>0</th>\n",
       "      <td>V0002132H05260002-1.jpg</td>\n",
       "      <td>[0.2310984, 0.0, 11.489848, 1.2045413, 0.09439...</td>\n",
       "    </tr>\n",
       "    <tr>\n",
       "      <th>1</th>\n",
       "      <td>F2022051200003313-1.jpg</td>\n",
       "      <td>[0.027451126, 0.0, 10.108498, 3.4653668, 2.222...</td>\n",
       "    </tr>\n",
       "    <tr>\n",
       "      <th>2</th>\n",
       "      <td>V0001966H05070002-1.jpg</td>\n",
       "      <td>[0.0, 0.0, 23.07469, 0.062847756, 0.7220657, 1...</td>\n",
       "    </tr>\n",
       "    <tr>\n",
       "      <th>3</th>\n",
       "      <td>F2022042800001942-1.jpg</td>\n",
       "      <td>[0.3248762, 0.0, 5.28933, 6.236734, 0.84258276...</td>\n",
       "    </tr>\n",
       "    <tr>\n",
       "      <th>4</th>\n",
       "      <td>V0000336H07280012-1.jpg</td>\n",
       "      <td>[0.03647488, 0.0, 1.9045949, 4.5213065, 0.0, 2...</td>\n",
       "    </tr>\n",
       "    <tr>\n",
       "      <th>...</th>\n",
       "      <td>...</td>\n",
       "      <td>...</td>\n",
       "    </tr>\n",
       "    <tr>\n",
       "      <th>421</th>\n",
       "      <td>V0002110H05290008-1.jpg</td>\n",
       "      <td>[0.24691036, 0.0, 5.412187, 2.691634, 1.442488...</td>\n",
       "    </tr>\n",
       "    <tr>\n",
       "      <th>422</th>\n",
       "      <td>F2022033000002337-1.jpg</td>\n",
       "      <td>[0.057991553, 0.0, 17.22441, 0.69563663, 1.976...</td>\n",
       "    </tr>\n",
       "    <tr>\n",
       "      <th>423</th>\n",
       "      <td>F2022071800001202-1.jpg</td>\n",
       "      <td>[4.429495, 0.0, 0.82158875, 0.5262975, 1.23762...</td>\n",
       "    </tr>\n",
       "    <tr>\n",
       "      <th>424</th>\n",
       "      <td>F2022042100000056-1.jpg</td>\n",
       "      <td>[0.059369043, 0.0, 7.731587, 3.2327712, 4.6855...</td>\n",
       "    </tr>\n",
       "    <tr>\n",
       "      <th>425</th>\n",
       "      <td>V0001992H08200002-1.jpg</td>\n",
       "      <td>[0.019590037, 0.0, 2.1754231, 0.09928424, 0.14...</td>\n",
       "    </tr>\n",
       "  </tbody>\n",
       "</table>\n",
       "<p>426 rows × 2 columns</p>\n",
       "</div>"
      ],
      "text/plain": [
       "                    filename  \\\n",
       "0    V0002132H05260002-1.jpg   \n",
       "1    F2022051200003313-1.jpg   \n",
       "2    V0001966H05070002-1.jpg   \n",
       "3    F2022042800001942-1.jpg   \n",
       "4    V0000336H07280012-1.jpg   \n",
       "..                       ...   \n",
       "421  V0002110H05290008-1.jpg   \n",
       "422  F2022033000002337-1.jpg   \n",
       "423  F2022071800001202-1.jpg   \n",
       "424  F2022042100000056-1.jpg   \n",
       "425  V0001992H08200002-1.jpg   \n",
       "\n",
       "                                                output  \n",
       "0    [0.2310984, 0.0, 11.489848, 1.2045413, 0.09439...  \n",
       "1    [0.027451126, 0.0, 10.108498, 3.4653668, 2.222...  \n",
       "2    [0.0, 0.0, 23.07469, 0.062847756, 0.7220657, 1...  \n",
       "3    [0.3248762, 0.0, 5.28933, 6.236734, 0.84258276...  \n",
       "4    [0.03647488, 0.0, 1.9045949, 4.5213065, 0.0, 2...  \n",
       "..                                                 ...  \n",
       "421  [0.24691036, 0.0, 5.412187, 2.691634, 1.442488...  \n",
       "422  [0.057991553, 0.0, 17.22441, 0.69563663, 1.976...  \n",
       "423  [4.429495, 0.0, 0.82158875, 0.5262975, 1.23762...  \n",
       "424  [0.059369043, 0.0, 7.731587, 3.2327712, 4.6855...  \n",
       "425  [0.019590037, 0.0, 2.1754231, 0.09928424, 0.14...  \n",
       "\n",
       "[426 rows x 2 columns]"
      ]
     },
     "execution_count": 10,
     "metadata": {},
     "output_type": "execute_result"
    }
   ],
   "source": [
    "get_dataframe()"
   ]
  },
  {
   "cell_type": "code",
   "execution_count": null,
   "id": "c4e42d75-5546-440a-a8c8-fbf11198830a",
   "metadata": {},
   "outputs": [],
   "source": [
    "def get_cos_sim(file, category=category, metric='cosine'):\n",
    "    before_time = time.time()\n",
    "    file2vec = extract(file) # 이미지 벡터화\n",
    "    df = get_dataframe() # 데이터프레임 가져오기\n",
    "    df = df.append({'filename':file, 'output':file2vec}, ignore_index=True)\n",
    "    \n",
    "    cos_sim_array = np.zeros((len(df)))\n",
    "    for i in range(0, len(df)):\n",
    "        cos_sim_array[i] = distance.cdist([file2vec] , [df.iloc[i, 1]], metric)[0] # 벡터화된 이미지 기준\n",
    "    df['cos_sim']=cos_sim_array\n",
    "    after_time = time.time()\n",
    "    runtime = after_time-before_time\n",
    "    return df, runtime # 런타임 비교용"
   ]
  },
  {
   "cell_type": "code",
   "execution_count": null,
   "id": "8d34c381-a106-4856-b86a-762b5a4df5c8",
   "metadata": {},
   "outputs": [],
   "source": [
    "def show_sim(input_file):\n",
    "    global image_path\n",
    "    global output_path\n",
    "    cos_sim_df, runtime = get_cos_sim(input_file)\n",
    "    df_top_sim = cos_sim_df.sort_values(by='cos_sim')[:15]\n",
    "\n",
    "    # 그래프 그리는 부분은 서비스 시 생략 가능\n",
    "    f, ax = plt.subplots(3, 5, figsize=(40, 20))\n",
    "\n",
    "    for i in range(len(df_top_sim)):\n",
    "        if i == 0: \n",
    "            tmp_img = Image.open(df_top_sim.iloc[i, 0]).convert('RGB')\n",
    "            title = f'Original \\n{df_top_sim.iloc[i, 0]}'\n",
    "        else : \n",
    "            tmp_img = Image.open(image_path+'/'+df_top_sim.iloc[i, 0]).convert('RGB')\n",
    "            title = f'similarity no.{i} \\n{df_top_sim.iloc[i, 0]}'\n",
    "\n",
    "        sim = f'cos : {df_top_sim.iloc[i, 2]:.3f}' \n",
    "        ax[i//5][i%5].imshow(tmp_img, aspect='auto')\n",
    "        ax[i//5][i%5].set_title(title, pad=20, size=25) # 5열짜리 표를 만드는 것이므로 단순히 5로 나눈 나머지와 몫을 사용한 것임\n",
    "        ax[i//5][i%5].annotate(sim, (0,10), fontsize=18, color='red')\n",
    "    \n",
    "    print(f'소요시간 : {runtime:.3f}')\n",
    "    plt.show()"
   ]
  },
  {
   "cell_type": "code",
   "execution_count": null,
   "id": "14a28df1-774f-4c45-a575-96dfccd6c337",
   "metadata": {},
   "outputs": [],
   "source": [
    "def show_sim_threshold(input_file, threshold, savefig=False):\n",
    "    global image_path\n",
    "    global output_path\n",
    "    cos_sim_df, runtime = get_cos_sim(input_file)\n",
    "    df_top_sim = cos_sim_df[cos_sim_df.cos_sim <= threshold].sort_values(by='cos_sim')[:30]\n",
    "    # 그래프 그리는 부분은 서비스 시 생략 가능\n",
    "    if len(df_top_sim) <= 10:\n",
    "        f, ax = plt.subplots(2, 5, figsize=(40, 20))\n",
    "    elif len(df_top_sim) <=15:\n",
    "        f, ax = plt.subplots(3, 5, figsize=(40, 30))\n",
    "    elif len(df_top_sim) <=20:\n",
    "        f, ax = plt.subplots(4, 5, figsize=(40, 40))\n",
    "    elif len(df_top_sim) <=25:\n",
    "        f, ax = plt.subplots(5, 5, figsize=(40, 45))\n",
    "    else:\n",
    "        f, ax = plt.subplots(6, 5, figsize=(40, 50))\n",
    "\n",
    "    for i in range(len(df_top_sim)):\n",
    "        if i == 0: \n",
    "            tmp_img = Image.open(df_top_sim.iloc[i, 0]).convert('RGB')\n",
    "            title = f'Original \\n{df_top_sim.iloc[i, 0]}'\n",
    "        else : \n",
    "            tmp_img = Image.open(image_path+'/'+df_top_sim.iloc[i, 0]).convert('RGB')\n",
    "            title = f'similarity no.{i} \\n{df_top_sim.iloc[i, 0]}'\n",
    "        \n",
    "        sim = f'cos : {df_top_sim.iloc[i, 2]:.3f}' \n",
    "        ax[i//5][i%5].imshow(tmp_img, aspect='auto')\n",
    "        ax[i//5][i%5].set_title(title, pad=20, size=25) # 5열짜리 표를 만드는 것이므로 단순히 5로 나눈 나머지와 몫을 사용한 것임\n",
    "        ax[i//5][i%5].annotate(sim, (0,10), fontsize=18, color='red')\n",
    "    \n",
    "    if savefig:\n",
    "        global model_name\n",
    "        plt.savefig(f'./test_result/{model_name}_test_result_{time.strftime(\"%H_%M_%S\")}.jpg', pad_inches=0)\n",
    "    print(f'소요시간 : {runtime:.3f}')\n",
    "    plt.show()"
   ]
  },
  {
   "cell_type": "code",
   "execution_count": null,
   "id": "cda1fac6-0700-4bfd-b53c-f6facdabaac6",
   "metadata": {},
   "outputs": [],
   "source": [
    "get_dataframe()\n",
    "input_file_path = os.listdir(os.getcwd())\n",
    "input_files = [file for file in input_file_path if file.endswith(\".png\") or file.endswith(\".jpeg\") or file.endswith(\".jpg\")]\n",
    "\n"
   ]
  },
  {
   "cell_type": "code",
   "execution_count": null,
   "id": "564c019d-6ec7-4b8e-ba13-cf132c6668fd",
   "metadata": {},
   "outputs": [],
   "source": [
    "threshold = 0.4 # 임계값은 변경해가면서 확인 가능\n",
    "show_sim_threshold('test_car.png', threshold=threshold, savefig=False)\n",
    "# show_sim_threshold(input_file, threshold=threshold, savefig=True)\n",
    "# savefig = True 인자 넣으면 결과 사진 현재 디렉토리에 저장"
   ]
  },
  {
   "cell_type": "code",
   "execution_count": null,
   "id": "6de9ff2f-3ab5-45d1-88be-2b26e30a1dc8",
   "metadata": {},
   "outputs": [],
   "source": [
    "show_sim_threshold(input_files[1], threshold=threshold, savefig=True)"
   ]
  },
  {
   "cell_type": "code",
   "execution_count": null,
   "id": "ced6379d-8a2d-48b0-97cb-4cbf15a0f8b7",
   "metadata": {},
   "outputs": [],
   "source": [
    "show_sim_threshold(input_files[2], threshold=threshold, savefig=True)"
   ]
  },
  {
   "cell_type": "code",
   "execution_count": null,
   "id": "b81e6bee-e12b-49b2-9eca-3be2e9d2e0a1",
   "metadata": {},
   "outputs": [],
   "source": [
    "show_sim_threshold(input_files[3], threshold=threshold, savefig=True)"
   ]
  },
  {
   "cell_type": "code",
   "execution_count": null,
   "id": "157161dc-a1b8-475c-8ceb-803001aa5ecd",
   "metadata": {},
   "outputs": [],
   "source": []
  },
  {
   "cell_type": "code",
   "execution_count": null,
   "id": "9ffab28f-b39a-4c5b-89a2-45a6e1e46121",
   "metadata": {},
   "outputs": [],
   "source": []
  }
 ],
 "metadata": {
  "kernelspec": {
   "display_name": "Environment (conda_yolo_tensor)",
   "language": "python",
   "name": "conda_yolo_tensor"
  },
  "language_info": {
   "codemirror_mode": {
    "name": "ipython",
    "version": 3
   },
   "file_extension": ".py",
   "mimetype": "text/x-python",
   "name": "python",
   "nbconvert_exporter": "python",
   "pygments_lexer": "ipython3",
   "version": "3.8.12"
  }
 },
 "nbformat": 4,
 "nbformat_minor": 5
}
